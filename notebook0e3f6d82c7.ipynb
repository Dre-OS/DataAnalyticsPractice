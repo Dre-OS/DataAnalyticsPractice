{
 "cells": [
  {
   "cell_type": "code",
   "execution_count": 1,
   "id": "19facc35",
   "metadata": {
    "_cell_guid": "b1076dfc-b9ad-4769-8c92-a6c4dae69d19",
    "_uuid": "8f2839f25d086af736a60e9eeb907d3b93b6e0e5",
    "execution": {
     "iopub.execute_input": "2024-09-30T04:46:35.844042Z",
     "iopub.status.busy": "2024-09-30T04:46:35.843554Z",
     "iopub.status.idle": "2024-09-30T04:46:36.692561Z",
     "shell.execute_reply": "2024-09-30T04:46:36.691028Z"
    },
    "papermill": {
     "duration": 0.856738,
     "end_time": "2024-09-30T04:46:36.695205",
     "exception": false,
     "start_time": "2024-09-30T04:46:35.838467",
     "status": "completed"
    },
    "tags": []
   },
   "outputs": [
    {
     "name": "stdout",
     "output_type": "stream",
     "text": [
      "/kaggle/input/ecommerce-dataset-for-data-analysis/project1_df.csv\n"
     ]
    }
   ],
   "source": [
    "# This Python 3 environment comes with many helpful analytics libraries installed\n",
    "# It is defined by the kaggle/python Docker image: https://github.com/kaggle/docker-python\n",
    "# For example, here's several helpful packages to load\n",
    "\n",
    "import numpy as np # linear algebra\n",
    "import pandas as pd # data processing, CSV file I/O (e.g. pd.read_csv)\n",
    "from matplotlib import pyplot as plt\n",
    "\n",
    "# Input data files are available in the read-only \"../input/\" directory\n",
    "# For example, running this (by clicking run or pressing Shift+Enter) will list all files under the input directory\n",
    "\n",
    "import os\n",
    "for dirname, _, filenames in os.walk('/kaggle/input'):\n",
    "    for filename in filenames:\n",
    "        print(os.path.join(dirname, filename))\n",
    "\n",
    "# You can write up to 20GB to the current directory (/kaggle/working/) that gets preserved as output when you create a version using \"Save & Run All\" \n",
    "# You can also write temporary files to /kaggle/temp/, but they won't be saved outside of the current session"
   ]
  },
  {
   "cell_type": "markdown",
   "id": "43c89789",
   "metadata": {
    "papermill": {
     "duration": 0.002491,
     "end_time": "2024-09-30T04:46:36.700738",
     "exception": false,
     "start_time": "2024-09-30T04:46:36.698247",
     "status": "completed"
    },
    "tags": []
   },
   "source": [
    "> ## Creation of data frame"
   ]
  },
  {
   "cell_type": "code",
   "execution_count": 2,
   "id": "996497c0",
   "metadata": {
    "execution": {
     "iopub.execute_input": "2024-09-30T04:46:36.707788Z",
     "iopub.status.busy": "2024-09-30T04:46:36.707224Z",
     "iopub.status.idle": "2024-09-30T04:46:37.054468Z",
     "shell.execute_reply": "2024-09-30T04:46:37.053181Z"
    },
    "papermill": {
     "duration": 0.353618,
     "end_time": "2024-09-30T04:46:37.056959",
     "exception": false,
     "start_time": "2024-09-30T04:46:36.703341",
     "status": "completed"
    },
    "tags": []
   },
   "outputs": [
    {
     "data": {
      "text/html": [
       "<div>\n",
       "<style scoped>\n",
       "    .dataframe tbody tr th:only-of-type {\n",
       "        vertical-align: middle;\n",
       "    }\n",
       "\n",
       "    .dataframe tbody tr th {\n",
       "        vertical-align: top;\n",
       "    }\n",
       "\n",
       "    .dataframe thead th {\n",
       "        text-align: right;\n",
       "    }\n",
       "</style>\n",
       "<table border=\"1\" class=\"dataframe\">\n",
       "  <thead>\n",
       "    <tr style=\"text-align: right;\">\n",
       "      <th></th>\n",
       "      <th>cid</th>\n",
       "      <th>tid</th>\n",
       "      <th>gender</th>\n",
       "      <th>ages</th>\n",
       "      <th>date</th>\n",
       "      <th>category</th>\n",
       "      <th>discounted</th>\n",
       "      <th>disc_name</th>\n",
       "      <th>disc_amt</th>\n",
       "      <th>gross</th>\n",
       "      <th>net</th>\n",
       "      <th>method</th>\n",
       "      <th>location</th>\n",
       "    </tr>\n",
       "  </thead>\n",
       "  <tbody>\n",
       "    <tr>\n",
       "      <th>0</th>\n",
       "      <td>943146</td>\n",
       "      <td>5876328741</td>\n",
       "      <td>Female</td>\n",
       "      <td>25-45</td>\n",
       "      <td>30/08/2023 20:27:08</td>\n",
       "      <td>Electronics</td>\n",
       "      <td>Yes</td>\n",
       "      <td>FESTIVE50</td>\n",
       "      <td>64.30</td>\n",
       "      <td>725.304000</td>\n",
       "      <td>661.004000</td>\n",
       "      <td>Credit Card</td>\n",
       "      <td>Ahmedabad</td>\n",
       "    </tr>\n",
       "    <tr>\n",
       "      <th>1</th>\n",
       "      <td>180079</td>\n",
       "      <td>1018503182</td>\n",
       "      <td>Male</td>\n",
       "      <td>25-45</td>\n",
       "      <td>23/02/2024 09:33:46</td>\n",
       "      <td>Electronics</td>\n",
       "      <td>Yes</td>\n",
       "      <td>SEASONALOFFER21</td>\n",
       "      <td>175.19</td>\n",
       "      <td>4638.991875</td>\n",
       "      <td>4463.801875</td>\n",
       "      <td>Credit Card</td>\n",
       "      <td>Bangalore</td>\n",
       "    </tr>\n",
       "    <tr>\n",
       "      <th>2</th>\n",
       "      <td>337580</td>\n",
       "      <td>3814082218</td>\n",
       "      <td>Other</td>\n",
       "      <td>60 and above</td>\n",
       "      <td>06/03/2022 09:09:50</td>\n",
       "      <td>Clothing</td>\n",
       "      <td>Yes</td>\n",
       "      <td>SEASONALOFFER21</td>\n",
       "      <td>211.54</td>\n",
       "      <td>1986.372575</td>\n",
       "      <td>1774.832575</td>\n",
       "      <td>Credit Card</td>\n",
       "      <td>Delhi</td>\n",
       "    </tr>\n",
       "    <tr>\n",
       "      <th>3</th>\n",
       "      <td>180333</td>\n",
       "      <td>1395204173</td>\n",
       "      <td>Other</td>\n",
       "      <td>60 and above</td>\n",
       "      <td>04/11/2020 04:41:57</td>\n",
       "      <td>Sports &amp; Fitness</td>\n",
       "      <td>No</td>\n",
       "      <td>NaN</td>\n",
       "      <td>0.00</td>\n",
       "      <td>5695.612650</td>\n",
       "      <td>5695.612650</td>\n",
       "      <td>Debit Card</td>\n",
       "      <td>Delhi</td>\n",
       "    </tr>\n",
       "    <tr>\n",
       "      <th>4</th>\n",
       "      <td>447553</td>\n",
       "      <td>8009390577</td>\n",
       "      <td>Male</td>\n",
       "      <td>18-25</td>\n",
       "      <td>31/05/2022 17:00:32</td>\n",
       "      <td>Sports &amp; Fitness</td>\n",
       "      <td>Yes</td>\n",
       "      <td>WELCOME5</td>\n",
       "      <td>439.92</td>\n",
       "      <td>2292.651500</td>\n",
       "      <td>1852.731500</td>\n",
       "      <td>Credit Card</td>\n",
       "      <td>Delhi</td>\n",
       "    </tr>\n",
       "  </tbody>\n",
       "</table>\n",
       "</div>"
      ],
      "text/plain": [
       "      cid         tid  gender          ages                 date  \\\n",
       "0  943146  5876328741  Female         25-45  30/08/2023 20:27:08   \n",
       "1  180079  1018503182    Male         25-45  23/02/2024 09:33:46   \n",
       "2  337580  3814082218   Other  60 and above  06/03/2022 09:09:50   \n",
       "3  180333  1395204173   Other  60 and above  04/11/2020 04:41:57   \n",
       "4  447553  8009390577    Male         18-25  31/05/2022 17:00:32   \n",
       "\n",
       "           category discounted        disc_name  disc_amt        gross  \\\n",
       "0       Electronics        Yes        FESTIVE50     64.30   725.304000   \n",
       "1       Electronics        Yes  SEASONALOFFER21    175.19  4638.991875   \n",
       "2          Clothing        Yes  SEASONALOFFER21    211.54  1986.372575   \n",
       "3  Sports & Fitness         No              NaN      0.00  5695.612650   \n",
       "4  Sports & Fitness        Yes         WELCOME5    439.92  2292.651500   \n",
       "\n",
       "           net       method   location  \n",
       "0   661.004000  Credit Card  Ahmedabad  \n",
       "1  4463.801875  Credit Card  Bangalore  \n",
       "2  1774.832575  Credit Card      Delhi  \n",
       "3  5695.612650   Debit Card      Delhi  \n",
       "4  1852.731500  Credit Card      Delhi  "
      ]
     },
     "execution_count": 2,
     "metadata": {},
     "output_type": "execute_result"
    }
   ],
   "source": [
    "df = pd.read_csv(os.path.join(dirname, filename))\n",
    "\n",
    "df = df.rename(columns={'CID': 'cid','TID': 'tid','Gender': 'gender', 'Age Group': 'ages', 'Purchase Date': 'date','Product Category': 'category','Discount Availed': 'discounted','Discount Name': 'disc_name','Discount Amount (INR)': 'disc_amt', 'Gross Amount': 'gross','Net Amount': 'net','Purchase Method': 'method', 'Location': 'location' })\n",
    "df.head()\n",
    "\n",
    "\n"
   ]
  },
  {
   "cell_type": "markdown",
   "id": "76de67cb",
   "metadata": {
    "papermill": {
     "duration": 0.002996,
     "end_time": "2024-09-30T04:46:37.063306",
     "exception": false,
     "start_time": "2024-09-30T04:46:37.060310",
     "status": "completed"
    },
    "tags": []
   },
   "source": [
    "### Location Count Pie Chart  "
   ]
  },
  {
   "cell_type": "code",
   "execution_count": 3,
   "id": "91686a1a",
   "metadata": {
    "execution": {
     "iopub.execute_input": "2024-09-30T04:46:37.071151Z",
     "iopub.status.busy": "2024-09-30T04:46:37.070719Z",
     "iopub.status.idle": "2024-09-30T04:46:37.391941Z",
     "shell.execute_reply": "2024-09-30T04:46:37.390329Z"
    },
    "papermill": {
     "duration": 0.329909,
     "end_time": "2024-09-30T04:46:37.396266",
     "exception": false,
     "start_time": "2024-09-30T04:46:37.066357",
     "status": "completed"
    },
    "tags": []
   },
   "outputs": [
    {
     "data": {
      "text/plain": [
       "([<matplotlib.patches.Wedge at 0x7a70afae1480>,\n",
       "  <matplotlib.patches.Wedge at 0x7a70c26d6ec0>,\n",
       "  <matplotlib.patches.Wedge at 0x7a70afae1d50>,\n",
       "  <matplotlib.patches.Wedge at 0x7a70afae21d0>,\n",
       "  <matplotlib.patches.Wedge at 0x7a70afae2650>,\n",
       "  <matplotlib.patches.Wedge at 0x7a70afae2ad0>,\n",
       "  <matplotlib.patches.Wedge at 0x7a70afae2f50>,\n",
       "  <matplotlib.patches.Wedge at 0x7a70afae33d0>,\n",
       "  <matplotlib.patches.Wedge at 0x7a70afae3850>,\n",
       "  <matplotlib.patches.Wedge at 0x7a70afae3cd0>,\n",
       "  <matplotlib.patches.Wedge at 0x7a70afae1450>,\n",
       "  <matplotlib.patches.Wedge at 0x7a70afb2c5e0>,\n",
       "  <matplotlib.patches.Wedge at 0x7a70afb2ca60>,\n",
       "  <matplotlib.patches.Wedge at 0x7a70afb2cee0>],\n",
       " [Text(0.8825869603418061, 0.6565365621460935, 'Mumbai'),\n",
       "  Text(-0.35143086132848517, 1.042351356168312, 'Delhi'),\n",
       "  Text(-1.0863685666650464, 0.1726364311555716, 'Bangalore'),\n",
       "  Text(-0.8886243375393209, -0.6483415664083271, 'Hyderabad'),\n",
       "  Text(-0.4021314002575531, -1.0238605065764086, 'Chennai'),\n",
       "  Text(0.10020332114065002, -1.0954265353881034, 'Pune'),\n",
       "  Text(0.49451279296635064, -0.9825767642238542, 'Ahmedabad'),\n",
       "  Text(0.7736745860137323, -0.7819383830945249, 'Kolkata'),\n",
       "  Text(0.9434085591861782, -0.5656680037391715, 'Jaipur'),\n",
       "  Text(1.021779712010029, -0.4073895189185682, 'Lucknow'),\n",
       "  Text(1.0644976690647834, -0.2772087887417047, 'Other'),\n",
       "  Text(1.0858811191625155, -0.17567639296833015, 'Varanasi'),\n",
       "  Text(1.0951240674762326, -0.10345664229188975, 'Dehradun'),\n",
       "  Text(1.0994611548170694, -0.034426284265315174, 'Srinagar')])"
      ]
     },
     "execution_count": 3,
     "metadata": {},
     "output_type": "execute_result"
    },
    {
     "data": {
      "image/png": "[encoded data removed]",
      "text/plain": [
       "<Figure size 640x480 with 1 Axes>"
      ]
     },
     "metadata": {},
     "output_type": "display_data"
    }
   ],
   "source": [
    "loc_count = df['location'].value_counts()\n",
    "plt.title(\"Locations of purchases\")\n",
    "plt.pie(loc_count,labels = loc_count.index)"
   ]
  }
 ],
 "metadata": {
  "kaggle": {
   "accelerator": "none",
   "dataSources": [
    {
     "datasetId": 5730258,
     "sourceId": 9431776,
     "sourceType": "datasetVersion"
    }
   ],
   "dockerImageVersionId": 30775,
   "isGpuEnabled": false,
   "isInternetEnabled": false,
   "language": "python",
   "sourceType": "notebook"
  },
  "kernelspec": {
   "display_name": "Python 3",
   "language": "python",
   "name": "python3"
  },
  "language_info": {
   "codemirror_mode": {
    "name": "ipython",
    "version": 3
   },
   "file_extension": ".py",
   "mimetype": "text/x-python",
   "name": "python",
   "nbconvert_exporter": "python",
   "pygments_lexer": "ipython3",
   "version": "3.10.14"
  },
  "papermill": {
   "default_parameters": {},
   "duration": 5.421043,
   "end_time": "2024-09-30T04:46:37.924586",
   "environment_variables": {},
   "exception": null,
   "input_path": "__notebook__.ipynb",
   "output_path": "__notebook__.ipynb",
   "parameters": {},
   "start_time": "2024-09-30T04:46:32.503543",
   "version": "2.6.0"
  }
 },
 "nbformat": 4,
 "nbformat_minor": 5
}
